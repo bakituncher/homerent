{
 "cells": [
  {
   "cell_type": "code",
   "execution_count": 1,
   "id": "e0571a45-3d02-4913-b8d9-1ba4e321875d",
   "metadata": {},
   "outputs": [],
   "source": [
    "import numpy as np\n",
    "import pandas as pd\n",
    "import matplotlib.pyplot as plt"
   ]
  },
  {
   "cell_type": "code",
   "execution_count": 6,
   "id": "198a5aae-110c-449b-a233-41239e1ed94c",
   "metadata": {},
   "outputs": [
    {
     "name": "stdout",
     "output_type": "stream",
     "text": [
      "<class 'pandas.core.frame.DataFrame'>\n",
      "RangeIndex: 1596 entries, 0 to 1595\n",
      "Data columns (total 9 columns):\n",
      " #   Column        Non-Null Count  Dtype \n",
      "---  ------        --------------  ----- \n",
      " 0   city          1596 non-null   object\n",
      " 1   district      1596 non-null   object\n",
      " 2   neighborhood  1596 non-null   object\n",
      " 3   room          1596 non-null   int64 \n",
      " 4   living_room   1596 non-null   int64 \n",
      " 5   area          1596 non-null   int64 \n",
      " 6   age           1596 non-null   int64 \n",
      " 7   floor         1596 non-null   int64 \n",
      " 8   price         1596 non-null   int64 \n",
      "dtypes: int64(6), object(3)\n",
      "memory usage: 112.3+ KB\n"
     ]
    }
   ],
   "source": [
    "df=pd.read_csv(\"house_data\")\n",
    "df.info()"
   ]
  },
  {
   "cell_type": "code",
   "execution_count": 7,
   "id": "8bc7ec00-5f73-42a0-ae16-c500df3dd975",
   "metadata": {},
   "outputs": [],
   "source": [
    "df[\"city\"]= df[\"city\"].astype(\"category\")\n",
    "df[\"district\"]= df[\"district\"].astype(\"category\")\n",
    "df[\"neighborhood\"]= df[\"neighborhood\"].astype(\"category\")"
   ]
  },
  {
   "cell_type": "code",
   "execution_count": 8,
   "id": "b3aeeeca-6601-4e82-85f2-8c48f4b09751",
   "metadata": {},
   "outputs": [
    {
     "name": "stdout",
     "output_type": "stream",
     "text": [
      "<class 'pandas.core.frame.DataFrame'>\n",
      "RangeIndex: 1596 entries, 0 to 1595\n",
      "Data columns (total 9 columns):\n",
      " #   Column        Non-Null Count  Dtype   \n",
      "---  ------        --------------  -----   \n",
      " 0   city          1596 non-null   category\n",
      " 1   district      1596 non-null   category\n",
      " 2   neighborhood  1596 non-null   category\n",
      " 3   room          1596 non-null   int64   \n",
      " 4   living_room   1596 non-null   int64   \n",
      " 5   area          1596 non-null   int64   \n",
      " 6   age           1596 non-null   int64   \n",
      " 7   floor         1596 non-null   int64   \n",
      " 8   price         1596 non-null   int64   \n",
      "dtypes: category(3), int64(6)\n",
      "memory usage: 107.5 KB\n"
     ]
    }
   ],
   "source": [
    "df.info()"
   ]
  },
  {
   "cell_type": "code",
   "execution_count": 10,
   "id": "a957910e-54d8-49dc-8416-2af2fd2a2f72",
   "metadata": {},
   "outputs": [
    {
     "name": "stdout",
     "output_type": "stream",
     "text": [
      "Column: room, min: 0.5, max: 3.5\n",
      "Column: living_room, min: 1.0, max: 1.0\n",
      "Column: area, min: -10.0, max: 170.0\n",
      "Column: age, min: -25.0, max: 35.0\n",
      "Column: floor, min: -3.5, max: 5.5\n",
      "Column: price, min: -11000.0, max: 43000.0\n"
     ]
    }
   ],
   "source": [
    "columns = df.select_dtypes(include=[np.number]).columns\n",
    "min_values=[]\n",
    "max_values=[]\n",
    "\n",
    "for column in columns:\n",
    "    Q1=df[column].quantile(0.25)\n",
    "    Q3= df[column].quantile(0.75)\n",
    "    IQR = Q3-Q1\n",
    "    min_value = Q1-1.5*IQR\n",
    "    max_value = Q1 + 1.5* IQR\n",
    "    min_values.append(min_value)\n",
    "    max_values.append(max_value)\n",
    "    print(f\"Column: {column}, min: {min_value}, max: {max_value}\")\n",
    "   "
   ]
  },
  {
   "cell_type": "code",
   "execution_count": 11,
   "id": "351d7d56-6b48-4172-9da2-1e72abc1ffb1",
   "metadata": {},
   "outputs": [],
   "source": [
    "for i, column in enumerate(columns):\n",
    "    df = df[(df[column] >= min_values[i]) & (df[column] <= max_values[i])]"
   ]
  },
  {
   "cell_type": "code",
   "execution_count": 12,
   "id": "841002a9-1f25-4cf1-8d75-f687d096206b",
   "metadata": {},
   "outputs": [
    {
     "data": {
      "text/html": [
       "<div>\n",
       "<style scoped>\n",
       "    .dataframe tbody tr th:only-of-type {\n",
       "        vertical-align: middle;\n",
       "    }\n",
       "\n",
       "    .dataframe tbody tr th {\n",
       "        vertical-align: top;\n",
       "    }\n",
       "\n",
       "    .dataframe thead th {\n",
       "        text-align: right;\n",
       "    }\n",
       "</style>\n",
       "<table border=\"1\" class=\"dataframe\">\n",
       "  <thead>\n",
       "    <tr style=\"text-align: right;\">\n",
       "      <th></th>\n",
       "      <th>room</th>\n",
       "      <th>living_room</th>\n",
       "      <th>area</th>\n",
       "      <th>age</th>\n",
       "      <th>floor</th>\n",
       "      <th>price</th>\n",
       "    </tr>\n",
       "  </thead>\n",
       "  <tbody>\n",
       "    <tr>\n",
       "      <th>count</th>\n",
       "      <td>1084.000000</td>\n",
       "      <td>1084.0</td>\n",
       "      <td>1084.000000</td>\n",
       "      <td>1084.000000</td>\n",
       "      <td>1084.000000</td>\n",
       "      <td>1084.000000</td>\n",
       "    </tr>\n",
       "    <tr>\n",
       "      <th>mean</th>\n",
       "      <td>2.075646</td>\n",
       "      <td>1.0</td>\n",
       "      <td>100.205720</td>\n",
       "      <td>14.154059</td>\n",
       "      <td>2.261070</td>\n",
       "      <td>21044.182657</td>\n",
       "    </tr>\n",
       "    <tr>\n",
       "      <th>std</th>\n",
       "      <td>0.756503</td>\n",
       "      <td>0.0</td>\n",
       "      <td>33.027803</td>\n",
       "      <td>11.302410</td>\n",
       "      <td>1.624807</td>\n",
       "      <td>7951.782145</td>\n",
       "    </tr>\n",
       "    <tr>\n",
       "      <th>min</th>\n",
       "      <td>1.000000</td>\n",
       "      <td>1.0</td>\n",
       "      <td>30.000000</td>\n",
       "      <td>0.000000</td>\n",
       "      <td>-3.000000</td>\n",
       "      <td>4000.000000</td>\n",
       "    </tr>\n",
       "    <tr>\n",
       "      <th>25%</th>\n",
       "      <td>1.000000</td>\n",
       "      <td>1.0</td>\n",
       "      <td>70.000000</td>\n",
       "      <td>4.000000</td>\n",
       "      <td>1.000000</td>\n",
       "      <td>15000.000000</td>\n",
       "    </tr>\n",
       "    <tr>\n",
       "      <th>50%</th>\n",
       "      <td>2.000000</td>\n",
       "      <td>1.0</td>\n",
       "      <td>100.000000</td>\n",
       "      <td>11.000000</td>\n",
       "      <td>2.000000</td>\n",
       "      <td>20000.000000</td>\n",
       "    </tr>\n",
       "    <tr>\n",
       "      <th>75%</th>\n",
       "      <td>3.000000</td>\n",
       "      <td>1.0</td>\n",
       "      <td>125.000000</td>\n",
       "      <td>25.000000</td>\n",
       "      <td>3.000000</td>\n",
       "      <td>26000.000000</td>\n",
       "    </tr>\n",
       "    <tr>\n",
       "      <th>max</th>\n",
       "      <td>3.000000</td>\n",
       "      <td>1.0</td>\n",
       "      <td>170.000000</td>\n",
       "      <td>35.000000</td>\n",
       "      <td>5.000000</td>\n",
       "      <td>43000.000000</td>\n",
       "    </tr>\n",
       "  </tbody>\n",
       "</table>\n",
       "</div>"
      ],
      "text/plain": [
       "              room  living_room         area          age        floor  \\\n",
       "count  1084.000000       1084.0  1084.000000  1084.000000  1084.000000   \n",
       "mean      2.075646          1.0   100.205720    14.154059     2.261070   \n",
       "std       0.756503          0.0    33.027803    11.302410     1.624807   \n",
       "min       1.000000          1.0    30.000000     0.000000    -3.000000   \n",
       "25%       1.000000          1.0    70.000000     4.000000     1.000000   \n",
       "50%       2.000000          1.0   100.000000    11.000000     2.000000   \n",
       "75%       3.000000          1.0   125.000000    25.000000     3.000000   \n",
       "max       3.000000          1.0   170.000000    35.000000     5.000000   \n",
       "\n",
       "              price  \n",
       "count   1084.000000  \n",
       "mean   21044.182657  \n",
       "std     7951.782145  \n",
       "min     4000.000000  \n",
       "25%    15000.000000  \n",
       "50%    20000.000000  \n",
       "75%    26000.000000  \n",
       "max    43000.000000  "
      ]
     },
     "execution_count": 12,
     "metadata": {},
     "output_type": "execute_result"
    }
   ],
   "source": [
    "df.describe()"
   ]
  },
  {
   "cell_type": "code",
   "execution_count": 13,
   "id": "f64412be-9a54-4d67-a6dc-b0cd061d0746",
   "metadata": {},
   "outputs": [],
   "source": [
    "df.to_csv('data_cleaned.csv', index=False)"
   ]
  },
  {
   "cell_type": "code",
   "execution_count": null,
   "id": "6af6fc38-5963-41dc-acab-ee614101b02e",
   "metadata": {},
   "outputs": [],
   "source": []
  }
 ],
 "metadata": {
  "kernelspec": {
   "display_name": "Python 3 (ipykernel)",
   "language": "python",
   "name": "python3"
  },
  "language_info": {
   "codemirror_mode": {
    "name": "ipython",
    "version": 3
   },
   "file_extension": ".py",
   "mimetype": "text/x-python",
   "name": "python",
   "nbconvert_exporter": "python",
   "pygments_lexer": "ipython3",
   "version": "3.12.7"
  }
 },
 "nbformat": 4,
 "nbformat_minor": 5
}
